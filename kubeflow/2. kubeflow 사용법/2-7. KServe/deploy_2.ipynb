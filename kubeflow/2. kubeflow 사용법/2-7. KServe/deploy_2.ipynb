{
 "cells": [
  {
   "cell_type": "markdown",
   "id": "f6230c28",
   "metadata": {},
   "source": [
    "# 라이브러리 임포트 "
   ]
  },
  {
   "cell_type": "code",
   "execution_count": 1,
   "id": "fe494a9e-fc6f-4f02-b631-07c30f009ab7",
   "metadata": {
    "tags": []
   },
   "outputs": [],
   "source": [
    "import requests\n",
    "import warnings\n",
    "warnings.filterwarnings(\"ignore\")"
   ]
  },
  {
   "cell_type": "code",
   "execution_count": 2,
   "id": "bba82f27-3b82-42b9-b6bb-d8e3da97b5c4",
   "metadata": {
    "tags": []
   },
   "outputs": [],
   "source": [
    "from kserve import (\n",
    "    constants,\n",
    "    KServeClient,\n",
    "    V1beta1InferenceService,\n",
    "    V1beta1InferenceServiceSpec,\n",
    "    V1beta1PredictorSpec,\n",
    "    V1beta1SKLearnSpec,\n",
    "    V1beta1ModelSpec,\n",
    "    V1beta1ModelFormat,\n",
    "    V1beta1TFServingSpec,\n",
    "    utils\n",
    ")\n",
    "from kubernetes import client "
   ]
  },
  {
   "cell_type": "markdown",
   "id": "d10d23d2",
   "metadata": {},
   "source": [
    "# KServe\n",
    "- 모델 생성하기 "
   ]
  },
  {
   "cell_type": "code",
   "execution_count": 3,
   "id": "c890565e-eb36-469c-a97e-e4a32dfe3bcd",
   "metadata": {
    "tags": []
   },
   "outputs": [],
   "source": [
    "namespace = utils.get_default_target_namespace()\n",
    "service_name=\"sklearn-iris-python\""
   ]
  },
  {
   "cell_type": "code",
   "execution_count": 4,
   "id": "e0ee46d2-7ec2-4d3d-8afd-7d49a9143c5d",
   "metadata": {
    "tags": []
   },
   "outputs": [],
   "source": [
    "api_version = constants.KSERVE_GROUP + '/' + constants.KSERVE_V1BETA1_VERSION\n",
    "storage = 'gs://kfserving-examples/models/sklearn/1.0/model'\n",
    "image = \"kserve/sklearnserver:v0.9.0\"\n",
    "isvc = V1beta1InferenceService(api_version=api_version,\n",
    "                               kind=constants.KSERVE_KIND,\n",
    "                               metadata=client.V1ObjectMeta(name=service_name, namespace=namespace, annotations={'sidecar.istio.io/inject':'false'}),\n",
    "                               spec=V1beta1InferenceServiceSpec(\n",
    "                                   predictor=V1beta1PredictorSpec(\n",
    "                                       sklearn=(V1beta1SKLearnSpec(\n",
    "                                           image = image,\n",
    "                                            storage_uri = storage))))\n",
    ")"
   ]
  },
  {
   "cell_type": "code",
   "execution_count": 5,
   "id": "ba818dad-f435-47af-a470-386df2bdc4a2",
   "metadata": {
    "tags": []
   },
   "outputs": [
    {
     "data": {
      "text/plain": [
       "{'apiVersion': 'serving.kserve.io/v1beta1',\n",
       " 'kind': 'InferenceService',\n",
       " 'metadata': {'annotations': {'sidecar.istio.io/inject': 'false'},\n",
       "  'creationTimestamp': '2024-04-28T01:01:01Z',\n",
       "  'generation': 1,\n",
       "  'managedFields': [{'apiVersion': 'serving.kserve.io/v1beta1',\n",
       "    'fieldsType': 'FieldsV1',\n",
       "    'fieldsV1': {'f:metadata': {'f:annotations': {'.': {},\n",
       "       'f:sidecar.istio.io/inject': {}}},\n",
       "     'f:spec': {'.': {},\n",
       "      'f:predictor': {'.': {},\n",
       "       'f:sklearn': {'.': {},\n",
       "        'f:image': {},\n",
       "        'f:name': {},\n",
       "        'f:storageUri': {}}}}},\n",
       "    'manager': 'OpenAPI-Generator',\n",
       "    'operation': 'Update',\n",
       "    'time': '2024-04-28T01:00:59Z'}],\n",
       "  'name': 'sklearn-iris-python',\n",
       "  'namespace': 'kubeflow-user-example-com',\n",
       "  'resourceVersion': '271722',\n",
       "  'uid': '161f52d6-d3a7-4ddf-8079-39c560be581a'},\n",
       " 'spec': {'predictor': {'model': {'image': 'kserve/sklearnserver:v0.9.0',\n",
       "    'modelFormat': {'name': 'sklearn'},\n",
       "    'name': '',\n",
       "    'protocolVersion': 'v1',\n",
       "    'resources': {},\n",
       "    'runtime': 'kserve-sklearnserver',\n",
       "    'storageUri': 'gs://kfserving-examples/models/sklearn/1.0/model'}}}}"
      ]
     },
     "execution_count": 5,
     "metadata": {},
     "output_type": "execute_result"
    }
   ],
   "source": [
    "KServe = KServeClient()\n",
    "KServe.create(isvc)"
   ]
  },
  {
   "cell_type": "code",
   "execution_count": 6,
   "id": "7a64838f-c631-4e80-addf-c3c860748255",
   "metadata": {
    "tags": []
   },
   "outputs": [],
   "source": [
    "KServe.get(service_name, namespace=namespace, watch=True, timeout_seconds=120)\n",
    "isvc_resp=KServe.get(service_name, namespace=namespace)"
   ]
  },
  {
   "cell_type": "code",
   "execution_count": 7,
   "id": "cf48e8c9-1963-4eac-990d-39fdce7ce116",
   "metadata": {
    "tags": []
   },
   "outputs": [
    {
     "data": {
      "text/plain": [
       "{'apiVersion': 'serving.kserve.io/v1beta1',\n",
       " 'kind': 'InferenceService',\n",
       " 'metadata': {'annotations': {'sidecar.istio.io/inject': 'false'},\n",
       "  'creationTimestamp': '2024-04-28T01:01:01Z',\n",
       "  'finalizers': ['inferenceservice.finalizers'],\n",
       "  'generation': 1,\n",
       "  'managedFields': [{'apiVersion': 'serving.kserve.io/v1beta1',\n",
       "    'fieldsType': 'FieldsV1',\n",
       "    'fieldsV1': {'f:metadata': {'f:annotations': {'.': {},\n",
       "       'f:sidecar.istio.io/inject': {}}},\n",
       "     'f:spec': {'.': {},\n",
       "      'f:predictor': {'.': {},\n",
       "       'f:sklearn': {'.': {},\n",
       "        'f:image': {},\n",
       "        'f:name': {},\n",
       "        'f:storageUri': {}}}}},\n",
       "    'manager': 'OpenAPI-Generator',\n",
       "    'operation': 'Update',\n",
       "    'time': '2024-04-28T01:00:59Z'},\n",
       "   {'apiVersion': 'serving.kserve.io/v1beta1',\n",
       "    'fieldsType': 'FieldsV1',\n",
       "    'fieldsV1': {'f:metadata': {'f:finalizers': {'.': {},\n",
       "       'v:\"inferenceservice.finalizers\"': {}}},\n",
       "     'f:status': {'.': {},\n",
       "      'f:address': {'.': {}, 'f:url': {}},\n",
       "      'f:components': {'.': {},\n",
       "       'f:predictor': {'.': {},\n",
       "        'f:address': {'.': {}, 'f:url': {}},\n",
       "        'f:latestCreatedRevision': {},\n",
       "        'f:latestReadyRevision': {},\n",
       "        'f:latestRolledoutRevision': {},\n",
       "        'f:traffic': {},\n",
       "        'f:url': {}}},\n",
       "      'f:conditions': {},\n",
       "      'f:url': {}}},\n",
       "    'manager': 'manager',\n",
       "    'operation': 'Update',\n",
       "    'time': '2024-04-28T01:01:14Z'}],\n",
       "  'name': 'sklearn-iris-python',\n",
       "  'namespace': 'kubeflow-user-example-com',\n",
       "  'resourceVersion': '271927',\n",
       "  'uid': '161f52d6-d3a7-4ddf-8079-39c560be581a'},\n",
       " 'spec': {'predictor': {'model': {'image': 'kserve/sklearnserver:v0.9.0',\n",
       "    'modelFormat': {'name': 'sklearn'},\n",
       "    'name': '',\n",
       "    'protocolVersion': 'v1',\n",
       "    'resources': {},\n",
       "    'runtime': 'kserve-sklearnserver',\n",
       "    'storageUri': 'gs://kfserving-examples/models/sklearn/1.0/model'}}},\n",
       " 'status': {'address': {'url': 'http://sklearn-iris-python.kubeflow-user-example-com.svc.cluster.local/v1/models/sklearn-iris-python:predict'},\n",
       "  'components': {'predictor': {'address': {'url': 'http://sklearn-iris-python-predictor-default.kubeflow-user-example-com.svc.cluster.local'},\n",
       "    'latestCreatedRevision': 'sklearn-iris-python-predictor-default-00001',\n",
       "    'latestReadyRevision': 'sklearn-iris-python-predictor-default-00001',\n",
       "    'latestRolledoutRevision': 'sklearn-iris-python-predictor-default-00001',\n",
       "    'traffic': [{'latestRevision': True,\n",
       "      'percent': 100,\n",
       "      'revisionName': 'sklearn-iris-python-predictor-default-00001'}],\n",
       "    'url': 'http://sklearn-iris-python-predictor-default.kubeflow-user-example-com.example.com'}},\n",
       "  'conditions': [{'lastTransitionTime': '2024-04-28T01:01:14Z',\n",
       "    'status': 'True',\n",
       "    'type': 'IngressReady'},\n",
       "   {'lastTransitionTime': '2024-04-28T01:01:13Z',\n",
       "    'severity': 'Info',\n",
       "    'status': 'True',\n",
       "    'type': 'PredictorConfigurationReady'},\n",
       "   {'lastTransitionTime': '2024-04-28T01:01:14Z',\n",
       "    'status': 'True',\n",
       "    'type': 'PredictorReady'},\n",
       "   {'lastTransitionTime': '2024-04-28T01:01:14Z',\n",
       "    'severity': 'Info',\n",
       "    'status': 'True',\n",
       "    'type': 'PredictorRouteReady'},\n",
       "   {'lastTransitionTime': '2024-04-28T01:01:14Z',\n",
       "    'status': 'True',\n",
       "    'type': 'Ready'}],\n",
       "  'url': 'http://sklearn-iris-python.kubeflow-user-example-com.example.com'}}"
      ]
     },
     "execution_count": 7,
     "metadata": {},
     "output_type": "execute_result"
    }
   ],
   "source": [
    "isvc_resp"
   ]
  },
  {
   "cell_type": "markdown",
   "id": "c33f0bb1",
   "metadata": {},
   "source": [
    "# 생성한 모델을 이용하여 예측하기 "
   ]
  },
  {
   "cell_type": "code",
   "execution_count": 8,
   "id": "d96a5b8b-4d9a-4541-8424-635185015c02",
   "metadata": {
    "tags": []
   },
   "outputs": [],
   "source": [
    "sklearn_iris_input={\n",
    "    \"instances\": [\n",
    "      [6.8,  2.8,  4.8,  1.4],\n",
    "      [6.0,  3.4,  4.5,  1.6]\n",
    "    ]\n",
    "}"
   ]
  },
  {
   "cell_type": "code",
   "execution_count": 9,
   "id": "00363f82-79ea-47d5-b46d-3e6eb9e9606c",
   "metadata": {
    "tags": []
   },
   "outputs": [
    {
     "name": "stdout",
     "output_type": "stream",
     "text": [
      "http://sklearn-iris-python.kubeflow-user-example-com.svc.cluster.local/v1/models/sklearn-iris-python:predict\n",
      "{\"predictions\": [1, 1]}\n"
     ]
    }
   ],
   "source": [
    "isvc_url = isvc_resp['status']['address']['url']\n",
    "print(isvc_url)\n",
    "\n",
    "response = requests.post(isvc_url, json=sklearn_iris_input)\n",
    "print(response.text)"
   ]
  },
  {
   "cell_type": "code",
   "execution_count": null,
   "id": "fcc56a6e-12de-4612-a317-3571f7a76c15",
   "metadata": {},
   "outputs": [],
   "source": []
  }
 ],
 "metadata": {
  "kernelspec": {
   "display_name": "Python 3 (ipykernel)",
   "language": "python",
   "name": "python3"
  },
  "language_info": {
   "codemirror_mode": {
    "name": "ipython",
    "version": 3
   },
   "file_extension": ".py",
   "mimetype": "text/x-python",
   "name": "python",
   "nbconvert_exporter": "python",
   "pygments_lexer": "ipython3",
   "version": "3.11.6"
  }
 },
 "nbformat": 4,
 "nbformat_minor": 5
}
