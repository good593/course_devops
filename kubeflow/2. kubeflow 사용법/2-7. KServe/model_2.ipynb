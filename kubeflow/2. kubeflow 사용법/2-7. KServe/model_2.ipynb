{
 "cells": [
  {
   "cell_type": "markdown",
   "id": "da067c13",
   "metadata": {},
   "source": [
    "# 라이브러리 임포트하기"
   ]
  },
  {
   "cell_type": "code",
   "execution_count": 1,
   "id": "8fc9805a-6afd-4412-8728-712042145039",
   "metadata": {
    "tags": []
   },
   "outputs": [],
   "source": [
    "from kserve import (\n",
    "    KServeClient,\n",
    "    utils\n",
    ")\n",
    "from kubernetes import client "
   ]
  },
  {
   "cell_type": "markdown",
   "id": "e6545042",
   "metadata": {},
   "source": [
    "# KServe Client"
   ]
  },
  {
   "cell_type": "code",
   "execution_count": 2,
   "id": "10eae871-8936-438c-92a1-76d86d5867e6",
   "metadata": {
    "tags": []
   },
   "outputs": [],
   "source": [
    "namespace = utils.get_default_target_namespace()\n",
    "service_name = \"sklearn-custom\"\n",
    "\n",
    "KServe = KServeClient()\n",
    "KServe.get(service_name, namespace=namespace, watch=True, timeout_seconds=120)\n",
    "isvc_resp=KServe.get(service_name, namespace=namespace)"
   ]
  },
  {
   "cell_type": "code",
   "execution_count": 3,
   "id": "04016b0c-e962-4881-8e26-38f5cf458685",
   "metadata": {
    "tags": []
   },
   "outputs": [
    {
     "data": {
      "text/plain": [
       "{'apiVersion': 'serving.kserve.io/v1beta1',\n",
       " 'kind': 'InferenceService',\n",
       " 'metadata': {'annotations': {'sidecar.istio.io/inject': 'false'},\n",
       "  'creationTimestamp': '2024-04-28T02:14:37Z',\n",
       "  'finalizers': ['inferenceservice.finalizers'],\n",
       "  'generation': 1,\n",
       "  'managedFields': [{'apiVersion': 'serving.kserve.io/v1beta1',\n",
       "    'fieldsType': 'FieldsV1',\n",
       "    'fieldsV1': {'f:metadata': {'f:annotations': {'.': {},\n",
       "       'f:sidecar.istio.io/inject': {}}},\n",
       "     'f:spec': {'.': {},\n",
       "      'f:predictor': {'.': {},\n",
       "       'f:serviceAccountName': {},\n",
       "       'f:sklearn': {'.': {}, 'f:image': {}, 'f:storageUri': {}}}}},\n",
       "    'manager': 'OpenAPI-Generator',\n",
       "    'operation': 'Update',\n",
       "    'time': '2024-04-28T02:14:35Z'},\n",
       "   {'apiVersion': 'serving.kserve.io/v1beta1',\n",
       "    'fieldsType': 'FieldsV1',\n",
       "    'fieldsV1': {'f:metadata': {'f:finalizers': {'.': {},\n",
       "       'v:\"inferenceservice.finalizers\"': {}}},\n",
       "     'f:status': {'.': {},\n",
       "      'f:address': {'.': {}, 'f:url': {}},\n",
       "      'f:components': {'.': {},\n",
       "       'f:predictor': {'.': {},\n",
       "        'f:address': {'.': {}, 'f:url': {}},\n",
       "        'f:latestCreatedRevision': {},\n",
       "        'f:latestReadyRevision': {},\n",
       "        'f:latestRolledoutRevision': {},\n",
       "        'f:traffic': {},\n",
       "        'f:url': {}}},\n",
       "      'f:conditions': {},\n",
       "      'f:url': {}}},\n",
       "    'manager': 'manager',\n",
       "    'operation': 'Update',\n",
       "    'time': '2024-04-28T02:15:24Z'}],\n",
       "  'name': 'sklearn-custom',\n",
       "  'namespace': 'kubeflow-user-example-com',\n",
       "  'resourceVersion': '301961',\n",
       "  'uid': '07afed09-5e66-4de4-b508-dc067c92ff90'},\n",
       " 'spec': {'predictor': {'model': {'image': 'kserve/sklearnserver:v0.11.2',\n",
       "    'modelFormat': {'name': 'sklearn'},\n",
       "    'name': '',\n",
       "    'protocolVersion': 'v1',\n",
       "    'resources': {},\n",
       "    'runtime': 'kserve-sklearnserver',\n",
       "    'storageUri': 's3://kserve-test/sklearn-test'},\n",
       "   'serviceAccountName': 'sa'}},\n",
       " 'status': {'address': {'url': 'http://sklearn-custom.kubeflow-user-example-com.svc.cluster.local/v1/models/sklearn-custom:predict'},\n",
       "  'components': {'predictor': {'address': {'url': 'http://sklearn-custom-predictor-default.kubeflow-user-example-com.svc.cluster.local'},\n",
       "    'latestCreatedRevision': 'sklearn-custom-predictor-default-00001',\n",
       "    'latestReadyRevision': 'sklearn-custom-predictor-default-00001',\n",
       "    'latestRolledoutRevision': 'sklearn-custom-predictor-default-00001',\n",
       "    'traffic': [{'latestRevision': True,\n",
       "      'percent': 100,\n",
       "      'revisionName': 'sklearn-custom-predictor-default-00001'}],\n",
       "    'url': 'http://sklearn-custom-predictor-default.kubeflow-user-example-com.example.com'}},\n",
       "  'conditions': [{'lastTransitionTime': '2024-04-28T02:15:24Z',\n",
       "    'status': 'True',\n",
       "    'type': 'IngressReady'},\n",
       "   {'lastTransitionTime': '2024-04-28T02:15:24Z',\n",
       "    'severity': 'Info',\n",
       "    'status': 'True',\n",
       "    'type': 'PredictorConfigurationReady'},\n",
       "   {'lastTransitionTime': '2024-04-28T02:15:24Z',\n",
       "    'status': 'True',\n",
       "    'type': 'PredictorReady'},\n",
       "   {'lastTransitionTime': '2024-04-28T02:15:24Z',\n",
       "    'severity': 'Info',\n",
       "    'status': 'True',\n",
       "    'type': 'PredictorRouteReady'},\n",
       "   {'lastTransitionTime': '2024-04-28T02:15:24Z',\n",
       "    'status': 'True',\n",
       "    'type': 'Ready'}],\n",
       "  'url': 'http://sklearn-custom.kubeflow-user-example-com.example.com'}}"
      ]
     },
     "execution_count": 3,
     "metadata": {},
     "output_type": "execute_result"
    }
   ],
   "source": [
    "isvc_resp"
   ]
  },
  {
   "cell_type": "markdown",
   "id": "d3b86ddc",
   "metadata": {},
   "source": [
    "# 모델 예측하기 \n",
    "- 해당 모델은 Minio에 저장된 모델임 "
   ]
  },
  {
   "cell_type": "code",
   "execution_count": 6,
   "id": "810a09ff-71bc-4a74-ab4e-07c394d5919a",
   "metadata": {
    "tags": []
   },
   "outputs": [],
   "source": [
    "import numpy as np\n",
    "\n",
    "X_test = np.arange(-100.0, 100.0, 0.01)[:, np.newaxis]\n",
    "X_test_list = X_test.tolist()"
   ]
  },
  {
   "cell_type": "code",
   "execution_count": 7,
   "id": "28b31cd9-1d78-447a-8cdc-691a159684be",
   "metadata": {
    "tags": []
   },
   "outputs": [
    {
     "name": "stdout",
     "output_type": "stream",
     "text": [
      "http://sklearn-custom.kubeflow-user-example-com.svc.cluster.local/v1/models/sklearn-custom:predict\n"
     ]
    }
   ],
   "source": [
    "import requests\n",
    "\n",
    "isvc_url = isvc_resp['status']['address']['url']\n",
    "print(isvc_url)"
   ]
  },
  {
   "cell_type": "code",
   "execution_count": 8,
   "id": "e20dbce4-e946-46db-9575-7c93c8bf05f2",
   "metadata": {
    "tags": []
   },
   "outputs": [],
   "source": [
    "sklearn_test_input={\n",
    "    \"instances\": X_test_list\n",
    "}"
   ]
  },
  {
   "cell_type": "code",
   "execution_count": 9,
   "id": "27fa535d-22d2-43bb-bc97-6784072fbea0",
   "metadata": {
    "tags": []
   },
   "outputs": [
    {
     "data": {
      "text/plain": [
       "20000"
      ]
     },
     "execution_count": 9,
     "metadata": {},
     "output_type": "execute_result"
    }
   ],
   "source": [
    "response = requests.post(isvc_url, json=sklearn_test_input)\n",
    "len(response.json()['predictions'])"
   ]
  },
  {
   "cell_type": "code",
   "execution_count": 10,
   "id": "8238c69f-a5b2-4537-9db7-cc7b5837ff7f",
   "metadata": {
    "tags": []
   },
   "outputs": [
    {
     "data": {
      "text/plain": [
       "[[1.825697613318415, 2.6449015931558004],\n",
       " [1.825697613318415, 2.6449015931558004],\n",
       " [1.825697613318415, 2.6449015931558004],\n",
       " [1.825697613318415, 2.6449015931558004],\n",
       " [1.825697613318415, 2.6449015931558004]]"
      ]
     },
     "execution_count": 10,
     "metadata": {},
     "output_type": "execute_result"
    }
   ],
   "source": [
    "response.json()['predictions'][:5]"
   ]
  },
  {
   "cell_type": "code",
   "execution_count": null,
   "id": "1fb3190b-ccf6-4c4b-aaad-fabc505e5ee5",
   "metadata": {},
   "outputs": [],
   "source": []
  }
 ],
 "metadata": {
  "kernelspec": {
   "display_name": "Python 3 (ipykernel)",
   "language": "python",
   "name": "python3"
  },
  "language_info": {
   "codemirror_mode": {
    "name": "ipython",
    "version": 3
   },
   "file_extension": ".py",
   "mimetype": "text/x-python",
   "name": "python",
   "nbconvert_exporter": "python",
   "pygments_lexer": "ipython3",
   "version": "3.11.6"
  }
 },
 "nbformat": 4,
 "nbformat_minor": 5
}
