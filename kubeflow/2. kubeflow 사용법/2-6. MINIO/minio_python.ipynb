{
 "cells": [
  {
   "cell_type": "code",
   "execution_count": 1,
   "id": "ea8c7846-66f7-45db-92ff-1cc49d26e442",
   "metadata": {},
   "outputs": [
    {
     "name": "stdout",
     "output_type": "stream",
     "text": [
      "Requirement already satisfied: minio in /opt/conda/lib/python3.8/site-packages (6.0.2)\n",
      "Requirement already satisfied: certifi in /opt/conda/lib/python3.8/site-packages (from minio) (2021.5.30)\n",
      "Requirement already satisfied: pytz in /opt/conda/lib/python3.8/site-packages (from minio) (2021.1)\n",
      "Requirement already satisfied: python-dateutil in /opt/conda/lib/python3.8/site-packages (from minio) (2.8.1)\n",
      "Requirement already satisfied: urllib3 in /opt/conda/lib/python3.8/site-packages (from minio) (1.26.5)\n",
      "Requirement already satisfied: configparser in /opt/conda/lib/python3.8/site-packages (from minio) (5.2.0)\n",
      "Requirement already satisfied: six>=1.5 in /opt/conda/lib/python3.8/site-packages (from python-dateutil->minio) (1.15.0)\n"
     ]
    }
   ],
   "source": [
    "!pip install minio\n",
    "import minio\n",
    "from minio import Minio"
   ]
  },
  {
   "cell_type": "markdown",
   "id": "e5aff101",
   "metadata": {},
   "source": [
    "### Bucket mlpipeline 조회 "
   ]
  },
  {
   "cell_type": "code",
   "execution_count": 2,
   "id": "9a1c8f62-0b39-41b1-938d-de6e43e06efa",
   "metadata": {},
   "outputs": [
    {
     "name": "stdout",
     "output_type": "stream",
     "text": [
      "mlpipeline exists\n"
     ]
    }
   ],
   "source": [
    "minioClient = Minio('minio-service.kubeflow.svc.cluster.local:9000',\n",
    "                     access_key='minio',\n",
    "                     secret_key='minio123',\n",
    "                     secure=False)\n",
    "\n",
    "bucket_name = \"mlpipeline\"\n",
    "\n",
    "if minioClient.bucket_exists(bucket_name):\n",
    "    print(f\"{bucket_name} exists\")\n",
    "else:\n",
    "    print(f\"{bucket_name} does not exist\")"
   ]
  },
  {
   "cell_type": "markdown",
   "id": "b3fbbec3",
   "metadata": {},
   "source": [
    "### 공통 클래스 생성 \n",
    "- create_bucket\n",
    "- upload_file\n",
    "- upload_directory"
   ]
  },
  {
   "cell_type": "code",
   "execution_count": 4,
   "id": "e7ffe1ac-288e-489c-b014-c9b1a87a9bf5",
   "metadata": {},
   "outputs": [],
   "source": [
    "class MinioClient():\n",
    "    def __init__(self):\n",
    "        self.client = Minio(\n",
    "            \"minio-service.kubeflow:9000\",\n",
    "            access_key=\"minio\",\n",
    "            secret_key=\"minio123\",\n",
    "            secure=False\n",
    "        )\n",
    "\n",
    "    def create_bucket(self,bucket_name):\n",
    "        if self.client.bucket_exists(bucket_name):\n",
    "            print(f\"{bucket_name} exists\")\n",
    "        else:\n",
    "            self.client.make_bucket(bucket_name)        \n",
    "            print(f\"{bucket_name} created\")\n",
    "\n",
    "    def upload_file(self, bucket, minio_path, local_path):\n",
    "        self.client.fput_object(bucket, minio_path, local_path)\n",
    "\n",
    "    def upload_directory(self, bucket, minio_path, local_path):\n",
    "        if os.path.isdir(local_path):\n",
    "            items = os.listdir(local_path)\n",
    "            items.sort()\n",
    "            for item in items:\n",
    "                item_local_path = os.path.join(local_path, item)\n",
    "                item_minio_path = os.path.join(minio_path, item)\n",
    "                if os.path.isfile(item_local_path):\n",
    "                    self.upload_file(bucket, item_minio_path, item_local_path)\n",
    "                elif os.path.isdir(item_local_path):\n",
    "                    self.upload_directory(bucket, item_minio_path, item_local_path)"
   ]
  },
  {
   "cell_type": "markdown",
   "id": "677687c5",
   "metadata": {},
   "source": [
    "### bucket 생성"
   ]
  },
  {
   "cell_type": "code",
   "execution_count": 5,
   "id": "baa549e2-3477-4c4c-93dd-0db6effe731b",
   "metadata": {},
   "outputs": [],
   "source": [
    "mc_sdk = MinioClient()"
   ]
  },
  {
   "cell_type": "code",
   "execution_count": 6,
   "id": "f7a629f3-a234-41d3-bcec-2374b2668e38",
   "metadata": {},
   "outputs": [
    {
     "name": "stdout",
     "output_type": "stream",
     "text": [
      "test-sdk created\n"
     ]
    }
   ],
   "source": [
    "mc_sdk.create_bucket(\"test-sdk\")"
   ]
  },
  {
   "cell_type": "markdown",
   "id": "a7cd513c",
   "metadata": {},
   "source": [
    "### upload file"
   ]
  },
  {
   "cell_type": "code",
   "execution_count": 7,
   "id": "f757a213-f27a-454e-91d6-30ff963e68c8",
   "metadata": {},
   "outputs": [],
   "source": [
    "mc_sdk.upload_file(\"test-sdk\", \"test.txt\", \"test.txt\")"
   ]
  }
 ],
 "metadata": {
  "kernelspec": {
   "display_name": "Python 3",
   "language": "python",
   "name": "python3"
  },
  "language_info": {
   "codemirror_mode": {
    "name": "ipython",
    "version": 3
   },
   "file_extension": ".py",
   "mimetype": "text/x-python",
   "name": "python",
   "nbconvert_exporter": "python",
   "pygments_lexer": "ipython3",
   "version": "3.8.10"
  }
 },
 "nbformat": 4,
 "nbformat_minor": 5
}
