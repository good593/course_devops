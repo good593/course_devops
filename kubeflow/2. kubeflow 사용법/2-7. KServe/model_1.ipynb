{
 "cells": [
  {
   "cell_type": "markdown",
   "id": "dfad2a8e",
   "metadata": {},
   "source": [
    "# 라이브러리 설치하기 "
   ]
  },
  {
   "cell_type": "code",
   "execution_count": 2,
   "id": "ba86683c-358a-4ec8-9a7b-8c6a4b810213",
   "metadata": {
    "tags": []
   },
   "outputs": [
    {
     "name": "stdout",
     "output_type": "stream",
     "text": [
      "Requirement already satisfied: scikit-learn==1.3.1 in /opt/conda/lib/python3.11/site-packages (1.3.1)\n",
      "Requirement already satisfied: pandas in /opt/conda/lib/python3.11/site-packages (2.1.1)\n",
      "Collecting azure-storage-blob==12.9.0\n",
      "  Downloading azure_storage_blob-12.9.0-py2.py3-none-any.whl.metadata (24 kB)\n",
      "Requirement already satisfied: kserve==0.11.2 in /opt/conda/lib/python3.11/site-packages (0.11.2)\n",
      "Requirement already satisfied: numpy<2.0,>=1.17.3 in /opt/conda/lib/python3.11/site-packages (from scikit-learn==1.3.1) (1.24.3)\n",
      "Requirement already satisfied: scipy>=1.5.0 in /opt/conda/lib/python3.11/site-packages (from scikit-learn==1.3.1) (1.11.3)\n",
      "Requirement already satisfied: joblib>=1.1.1 in /opt/conda/lib/python3.11/site-packages (from scikit-learn==1.3.1) (1.3.2)\n",
      "Requirement already satisfied: threadpoolctl>=2.0.0 in /opt/conda/lib/python3.11/site-packages (from scikit-learn==1.3.1) (3.2.0)\n",
      "Collecting azure-core<2.0.0,>=1.10.0 (from azure-storage-blob==12.9.0)\n",
      "  Downloading azure_core-1.30.1-py3-none-any.whl.metadata (37 kB)\n",
      "Collecting msrest>=0.6.21 (from azure-storage-blob==12.9.0)\n",
      "  Downloading msrest-0.7.1-py3-none-any.whl.metadata (21 kB)\n",
      "Requirement already satisfied: cryptography>=2.1.4 in /opt/conda/lib/python3.11/site-packages (from azure-storage-blob==12.9.0) (41.0.7)\n",
      "Requirement already satisfied: cloudevents<2.0.0,>=1.6.2 in /opt/conda/lib/python3.11/site-packages (from kserve==0.11.2) (1.10.1)\n",
      "Requirement already satisfied: fastapi<0.96.0,>=0.95.0 in /opt/conda/lib/python3.11/site-packages (from kserve==0.11.2) (0.95.2)\n",
      "Requirement already satisfied: grpcio<2.0.0,>=1.49.1 in /opt/conda/lib/python3.11/site-packages (from kserve==0.11.2) (1.51.3)\n",
      "Requirement already satisfied: httpx<0.24.0,>=0.23.0 in /opt/conda/lib/python3.11/site-packages (from kserve==0.11.2) (0.23.3)\n",
      "Requirement already satisfied: kubernetes>=23.3.0 in /opt/conda/lib/python3.11/site-packages (from kserve==0.11.2) (26.1.0)\n",
      "Requirement already satisfied: orjson<4.0.0,>=3.8.0 in /opt/conda/lib/python3.11/site-packages (from kserve==0.11.2) (3.10.1)\n",
      "Requirement already satisfied: prometheus-client<0.14.0,>=0.13.1 in /opt/conda/lib/python3.11/site-packages (from kserve==0.11.2) (0.13.1)\n",
      "Collecting protobuf<4.0.0,>=3.19.0 (from kserve==0.11.2)\n",
      "  Downloading protobuf-3.20.3-py2.py3-none-any.whl.metadata (720 bytes)\n",
      "Requirement already satisfied: psutil<6.0.0,>=5.9.0 in /opt/conda/lib/python3.11/site-packages (from kserve==0.11.2) (5.9.8)\n",
      "Requirement already satisfied: python-dateutil<3.0.0,>=2.8.0 in /opt/conda/lib/python3.11/site-packages (from kserve==0.11.2) (2.8.2)\n",
      "Requirement already satisfied: ray<2.5.0,>=2.4.0 in /opt/conda/lib/python3.11/site-packages (from ray[serve]<2.5.0,>=2.4.0->kserve==0.11.2) (2.4.0)\n",
      "Requirement already satisfied: six<2.0.0,>=1.16.0 in /opt/conda/lib/python3.11/site-packages (from kserve==0.11.2) (1.16.0)\n",
      "Requirement already satisfied: tabulate<0.10.0,>=0.9.0 in /opt/conda/lib/python3.11/site-packages (from kserve==0.11.2) (0.9.0)\n",
      "Requirement already satisfied: timing-asgi<0.4.0,>=0.3.0 in /opt/conda/lib/python3.11/site-packages (from kserve==0.11.2) (0.3.1)\n",
      "Requirement already satisfied: tritonclient<3.0.0,>=2.18.0 in /opt/conda/lib/python3.11/site-packages (from kserve==0.11.2) (2.44.0)\n",
      "Requirement already satisfied: uvicorn<0.20.0,>=0.19.0 in /opt/conda/lib/python3.11/site-packages (from uvicorn[standard]<0.20.0,>=0.19.0->kserve==0.11.2) (0.19.0)\n",
      "Requirement already satisfied: pytz>=2020.1 in /opt/conda/lib/python3.11/site-packages (from pandas) (2023.3.post1)\n",
      "Requirement already satisfied: tzdata>=2022.1 in /opt/conda/lib/python3.11/site-packages (from pandas) (2023.4)\n",
      "Requirement already satisfied: requests>=2.21.0 in /opt/conda/lib/python3.11/site-packages (from azure-core<2.0.0,>=1.10.0->azure-storage-blob==12.9.0) (2.31.0)\n",
      "Collecting typing-extensions>=4.6.0 (from azure-core<2.0.0,>=1.10.0->azure-storage-blob==12.9.0)\n",
      "  Using cached typing_extensions-4.11.0-py3-none-any.whl.metadata (3.0 kB)\n",
      "Requirement already satisfied: deprecation<3.0,>=2.0 in /opt/conda/lib/python3.11/site-packages (from cloudevents<2.0.0,>=1.6.2->kserve==0.11.2) (2.1.0)\n",
      "Requirement already satisfied: cffi>=1.12 in /opt/conda/lib/python3.11/site-packages (from cryptography>=2.1.4->azure-storage-blob==12.9.0) (1.16.0)\n",
      "Requirement already satisfied: pydantic!=1.7,!=1.7.1,!=1.7.2,!=1.7.3,!=1.8,!=1.8.1,<2.0.0,>=1.6.2 in /opt/conda/lib/python3.11/site-packages (from fastapi<0.96.0,>=0.95.0->kserve==0.11.2) (1.10.15)\n",
      "Requirement already satisfied: starlette<0.28.0,>=0.27.0 in /opt/conda/lib/python3.11/site-packages (from fastapi<0.96.0,>=0.95.0->kserve==0.11.2) (0.27.0)\n",
      "Requirement already satisfied: certifi in /opt/conda/lib/python3.11/site-packages (from httpx<0.24.0,>=0.23.0->kserve==0.11.2) (2023.11.17)\n",
      "Requirement already satisfied: httpcore<0.17.0,>=0.15.0 in /opt/conda/lib/python3.11/site-packages (from httpx<0.24.0,>=0.23.0->kserve==0.11.2) (0.16.3)\n",
      "Requirement already satisfied: rfc3986<2,>=1.3 in /opt/conda/lib/python3.11/site-packages (from rfc3986[idna2008]<2,>=1.3->httpx<0.24.0,>=0.23.0->kserve==0.11.2) (1.5.0)\n",
      "Requirement already satisfied: sniffio in /opt/conda/lib/python3.11/site-packages (from httpx<0.24.0,>=0.23.0->kserve==0.11.2) (1.3.0)\n",
      "Requirement already satisfied: setuptools>=21.0.0 in /opt/conda/lib/python3.11/site-packages (from kubernetes>=23.3.0->kserve==0.11.2) (69.0.3)\n",
      "Requirement already satisfied: pyyaml>=5.4.1 in /opt/conda/lib/python3.11/site-packages (from kubernetes>=23.3.0->kserve==0.11.2) (6.0.1)\n",
      "Requirement already satisfied: google-auth>=1.0.1 in /opt/conda/lib/python3.11/site-packages (from kubernetes>=23.3.0->kserve==0.11.2) (2.27.0)\n",
      "Requirement already satisfied: websocket-client!=0.40.0,!=0.41.*,!=0.42.*,>=0.32.0 in /opt/conda/lib/python3.11/site-packages (from kubernetes>=23.3.0->kserve==0.11.2) (1.7.0)\n",
      "Requirement already satisfied: requests-oauthlib in /opt/conda/lib/python3.11/site-packages (from kubernetes>=23.3.0->kserve==0.11.2) (1.3.1)\n",
      "Requirement already satisfied: urllib3>=1.24.2 in /opt/conda/lib/python3.11/site-packages (from kubernetes>=23.3.0->kserve==0.11.2) (1.26.18)\n",
      "Collecting isodate>=0.6.0 (from msrest>=0.6.21->azure-storage-blob==12.9.0)\n",
      "  Downloading isodate-0.6.1-py2.py3-none-any.whl.metadata (9.6 kB)\n",
      "Requirement already satisfied: attrs in /opt/conda/lib/python3.11/site-packages (from ray<2.5.0,>=2.4.0->ray[serve]<2.5.0,>=2.4.0->kserve==0.11.2) (23.2.0)\n",
      "Requirement already satisfied: click>=7.0 in /opt/conda/lib/python3.11/site-packages (from ray<2.5.0,>=2.4.0->ray[serve]<2.5.0,>=2.4.0->kserve==0.11.2) (8.1.7)\n",
      "Requirement already satisfied: filelock in /opt/conda/lib/python3.11/site-packages (from ray<2.5.0,>=2.4.0->ray[serve]<2.5.0,>=2.4.0->kserve==0.11.2) (3.13.4)\n",
      "Requirement already satisfied: jsonschema in /opt/conda/lib/python3.11/site-packages (from ray<2.5.0,>=2.4.0->ray[serve]<2.5.0,>=2.4.0->kserve==0.11.2) (4.21.1)\n",
      "Requirement already satisfied: msgpack<2.0.0,>=1.0.0 in /opt/conda/lib/python3.11/site-packages (from ray<2.5.0,>=2.4.0->ray[serve]<2.5.0,>=2.4.0->kserve==0.11.2) (1.0.8)\n",
      "Requirement already satisfied: aiosignal in /opt/conda/lib/python3.11/site-packages (from ray<2.5.0,>=2.4.0->ray[serve]<2.5.0,>=2.4.0->kserve==0.11.2) (1.3.1)\n",
      "Requirement already satisfied: frozenlist in /opt/conda/lib/python3.11/site-packages (from ray<2.5.0,>=2.4.0->ray[serve]<2.5.0,>=2.4.0->kserve==0.11.2) (1.4.1)\n",
      "Requirement already satisfied: virtualenv<20.21.1,>=20.0.24 in /opt/conda/lib/python3.11/site-packages (from ray<2.5.0,>=2.4.0->ray[serve]<2.5.0,>=2.4.0->kserve==0.11.2) (20.21.0)\n",
      "Requirement already satisfied: packaging in /opt/conda/lib/python3.11/site-packages (from ray<2.5.0,>=2.4.0->ray[serve]<2.5.0,>=2.4.0->kserve==0.11.2) (23.2)\n",
      "Requirement already satisfied: aiohttp-cors in /opt/conda/lib/python3.11/site-packages (from ray[serve]<2.5.0,>=2.4.0->kserve==0.11.2) (0.7.0)\n",
      "Requirement already satisfied: aiohttp>=3.7 in /opt/conda/lib/python3.11/site-packages (from ray[serve]<2.5.0,>=2.4.0->kserve==0.11.2) (3.9.5)\n",
      "Requirement already satisfied: py-spy>=0.2.0 in /opt/conda/lib/python3.11/site-packages (from ray[serve]<2.5.0,>=2.4.0->kserve==0.11.2) (0.3.14)\n",
      "Requirement already satisfied: aiorwlock in /opt/conda/lib/python3.11/site-packages (from ray[serve]<2.5.0,>=2.4.0->kserve==0.11.2) (1.4.0)\n",
      "Requirement already satisfied: gpustat>=1.0.0 in /opt/conda/lib/python3.11/site-packages (from ray[serve]<2.5.0,>=2.4.0->kserve==0.11.2) (1.1.1)\n",
      "Requirement already satisfied: colorful in /opt/conda/lib/python3.11/site-packages (from ray[serve]<2.5.0,>=2.4.0->kserve==0.11.2) (0.5.6)\n",
      "Requirement already satisfied: opencensus in /opt/conda/lib/python3.11/site-packages (from ray[serve]<2.5.0,>=2.4.0->kserve==0.11.2) (0.11.4)\n",
      "Requirement already satisfied: smart-open in /opt/conda/lib/python3.11/site-packages (from ray[serve]<2.5.0,>=2.4.0->kserve==0.11.2) (7.0.4)\n",
      "Requirement already satisfied: python-rapidjson>=0.9.1 in /opt/conda/lib/python3.11/site-packages (from tritonclient<3.0.0,>=2.18.0->kserve==0.11.2) (1.16)\n",
      "Collecting urllib3>=1.24.2 (from kubernetes>=23.3.0->kserve==0.11.2)\n",
      "  Using cached urllib3-2.2.1-py3-none-any.whl.metadata (6.4 kB)\n",
      "Requirement already satisfied: h11>=0.8 in /opt/conda/lib/python3.11/site-packages (from uvicorn<0.20.0,>=0.19.0->uvicorn[standard]<0.20.0,>=0.19.0->kserve==0.11.2) (0.14.0)\n",
      "Requirement already satisfied: httptools>=0.5.0 in /opt/conda/lib/python3.11/site-packages (from uvicorn[standard]<0.20.0,>=0.19.0->kserve==0.11.2) (0.6.1)\n",
      "Requirement already satisfied: python-dotenv>=0.13 in /opt/conda/lib/python3.11/site-packages (from uvicorn[standard]<0.20.0,>=0.19.0->kserve==0.11.2) (1.0.1)\n",
      "Requirement already satisfied: uvloop!=0.15.0,!=0.15.1,>=0.14.0 in /opt/conda/lib/python3.11/site-packages (from uvicorn[standard]<0.20.0,>=0.19.0->kserve==0.11.2) (0.19.0)\n",
      "Requirement already satisfied: watchfiles>=0.13 in /opt/conda/lib/python3.11/site-packages (from uvicorn[standard]<0.20.0,>=0.19.0->kserve==0.11.2) (0.21.0)\n",
      "Requirement already satisfied: websockets>=10.0 in /opt/conda/lib/python3.11/site-packages (from uvicorn[standard]<0.20.0,>=0.19.0->kserve==0.11.2) (12.0)\n",
      "Requirement already satisfied: multidict<7.0,>=4.5 in /opt/conda/lib/python3.11/site-packages (from aiohttp>=3.7->ray[serve]<2.5.0,>=2.4.0->kserve==0.11.2) (6.0.5)\n",
      "Requirement already satisfied: yarl<2.0,>=1.0 in /opt/conda/lib/python3.11/site-packages (from aiohttp>=3.7->ray[serve]<2.5.0,>=2.4.0->kserve==0.11.2) (1.9.4)\n",
      "Requirement already satisfied: pycparser in /opt/conda/lib/python3.11/site-packages (from cffi>=1.12->cryptography>=2.1.4->azure-storage-blob==12.9.0) (2.21)\n",
      "Requirement already satisfied: cachetools<6.0,>=2.0.0 in /opt/conda/lib/python3.11/site-packages (from google-auth>=1.0.1->kubernetes>=23.3.0->kserve==0.11.2) (5.3.2)\n",
      "Requirement already satisfied: pyasn1-modules>=0.2.1 in /opt/conda/lib/python3.11/site-packages (from google-auth>=1.0.1->kubernetes>=23.3.0->kserve==0.11.2) (0.3.0)\n",
      "Requirement already satisfied: rsa<5,>=3.1.4 in /opt/conda/lib/python3.11/site-packages (from google-auth>=1.0.1->kubernetes>=23.3.0->kserve==0.11.2) (4.9)\n",
      "Requirement already satisfied: nvidia-ml-py>=11.450.129 in /opt/conda/lib/python3.11/site-packages (from gpustat>=1.0.0->ray[serve]<2.5.0,>=2.4.0->kserve==0.11.2) (12.550.52)\n",
      "Requirement already satisfied: blessed>=1.17.1 in /opt/conda/lib/python3.11/site-packages (from gpustat>=1.0.0->ray[serve]<2.5.0,>=2.4.0->kserve==0.11.2) (1.20.0)\n",
      "Requirement already satisfied: anyio<5.0,>=3.0 in /opt/conda/lib/python3.11/site-packages (from httpcore<0.17.0,>=0.15.0->httpx<0.24.0,>=0.23.0->kserve==0.11.2) (4.2.0)\n",
      "Requirement already satisfied: charset-normalizer<4,>=2 in /opt/conda/lib/python3.11/site-packages (from requests>=2.21.0->azure-core<2.0.0,>=1.10.0->azure-storage-blob==12.9.0) (3.3.2)\n",
      "Requirement already satisfied: idna<4,>=2.5 in /opt/conda/lib/python3.11/site-packages (from requests>=2.21.0->azure-core<2.0.0,>=1.10.0->azure-storage-blob==12.9.0) (3.6)\n",
      "Requirement already satisfied: oauthlib>=3.0.0 in /opt/conda/lib/python3.11/site-packages (from requests-oauthlib->kubernetes>=23.3.0->kserve==0.11.2) (3.2.2)\n",
      "Requirement already satisfied: distlib<1,>=0.3.6 in /opt/conda/lib/python3.11/site-packages (from virtualenv<20.21.1,>=20.0.24->ray<2.5.0,>=2.4.0->ray[serve]<2.5.0,>=2.4.0->kserve==0.11.2) (0.3.8)\n",
      "Requirement already satisfied: platformdirs<4,>=2.4 in /opt/conda/lib/python3.11/site-packages (from virtualenv<20.21.1,>=20.0.24->ray<2.5.0,>=2.4.0->ray[serve]<2.5.0,>=2.4.0->kserve==0.11.2) (3.11.0)\n",
      "Requirement already satisfied: jsonschema-specifications>=2023.03.6 in /opt/conda/lib/python3.11/site-packages (from jsonschema->ray<2.5.0,>=2.4.0->ray[serve]<2.5.0,>=2.4.0->kserve==0.11.2) (2023.12.1)\n",
      "Requirement already satisfied: referencing>=0.28.4 in /opt/conda/lib/python3.11/site-packages (from jsonschema->ray<2.5.0,>=2.4.0->ray[serve]<2.5.0,>=2.4.0->kserve==0.11.2) (0.32.1)\n",
      "Requirement already satisfied: rpds-py>=0.7.1 in /opt/conda/lib/python3.11/site-packages (from jsonschema->ray<2.5.0,>=2.4.0->ray[serve]<2.5.0,>=2.4.0->kserve==0.11.2) (0.17.1)\n",
      "Requirement already satisfied: opencensus-context>=0.1.3 in /opt/conda/lib/python3.11/site-packages (from opencensus->ray[serve]<2.5.0,>=2.4.0->kserve==0.11.2) (0.1.3)\n",
      "Requirement already satisfied: google-api-core<3.0.0,>=1.0.0 in /opt/conda/lib/python3.11/site-packages (from opencensus->ray[serve]<2.5.0,>=2.4.0->kserve==0.11.2) (2.15.0)\n",
      "Requirement already satisfied: wrapt in /opt/conda/lib/python3.11/site-packages (from smart-open->ray[serve]<2.5.0,>=2.4.0->kserve==0.11.2) (1.16.0)\n",
      "Requirement already satisfied: wcwidth>=0.1.4 in /opt/conda/lib/python3.11/site-packages (from blessed>=1.17.1->gpustat>=1.0.0->ray[serve]<2.5.0,>=2.4.0->kserve==0.11.2) (0.2.13)\n",
      "Requirement already satisfied: googleapis-common-protos<2.0.dev0,>=1.56.2 in /opt/conda/lib/python3.11/site-packages (from google-api-core<3.0.0,>=1.0.0->opencensus->ray[serve]<2.5.0,>=2.4.0->kserve==0.11.2) (1.62.0)\n",
      "Requirement already satisfied: pyasn1<0.6.0,>=0.4.6 in /opt/conda/lib/python3.11/site-packages (from pyasn1-modules>=0.2.1->google-auth>=1.0.1->kubernetes>=23.3.0->kserve==0.11.2) (0.5.1)\n",
      "Downloading azure_storage_blob-12.9.0-py2.py3-none-any.whl (356 kB)\n",
      "\u001b[2K   \u001b[90m━━━━━━━━━━━━━━━━━━━━━━━━━━━━━━━━━━━━━━━━\u001b[0m \u001b[32m356.5/356.5 kB\u001b[0m \u001b[31m24.3 MB/s\u001b[0m eta \u001b[36m0:00:00\u001b[0m\n",
      "\u001b[?25hDownloading azure_core-1.30.1-py3-none-any.whl (193 kB)\n",
      "\u001b[2K   \u001b[90m━━━━━━━━━━━━━━━━━━━━━━━━━━━━━━━━━━━━━━━━\u001b[0m \u001b[32m193.4/193.4 kB\u001b[0m \u001b[31m17.7 MB/s\u001b[0m eta \u001b[36m0:00:00\u001b[0m\n",
      "\u001b[?25hDownloading msrest-0.7.1-py3-none-any.whl (85 kB)\n",
      "\u001b[2K   \u001b[90m━━━━━━━━━━━━━━━━━━━━━━━━━━━━━━━━━━━━━━━━\u001b[0m \u001b[32m85.4/85.4 kB\u001b[0m \u001b[31m9.6 MB/s\u001b[0m eta \u001b[36m0:00:00\u001b[0m\n",
      "\u001b[?25hDownloading protobuf-3.20.3-py2.py3-none-any.whl (162 kB)\n",
      "\u001b[2K   \u001b[90m━━━━━━━━━━━━━━━━━━━━━━━━━━━━━━━━━━━━━━━━\u001b[0m \u001b[32m162.1/162.1 kB\u001b[0m \u001b[31m18.6 MB/s\u001b[0m eta \u001b[36m0:00:00\u001b[0m\n",
      "\u001b[?25hDownloading isodate-0.6.1-py2.py3-none-any.whl (41 kB)\n",
      "\u001b[2K   \u001b[90m━━━━━━━━━━━━━━━━━━━━━━━━━━━━━━━━━━━━━━━━\u001b[0m \u001b[32m41.7/41.7 kB\u001b[0m \u001b[31m4.5 MB/s\u001b[0m eta \u001b[36m0:00:00\u001b[0m\n",
      "\u001b[?25hUsing cached typing_extensions-4.11.0-py3-none-any.whl (34 kB)\n",
      "Using cached urllib3-2.2.1-py3-none-any.whl (121 kB)\n",
      "Installing collected packages: urllib3, typing-extensions, protobuf, isodate, azure-core, msrest, azure-storage-blob\n",
      "  Attempting uninstall: urllib3\n",
      "    Found existing installation: urllib3 1.26.18\n",
      "    Uninstalling urllib3-1.26.18:\n",
      "      Successfully uninstalled urllib3-1.26.18\n",
      "  Attempting uninstall: typing-extensions\n",
      "    Found existing installation: typing_extensions 4.5.0\n",
      "    Uninstalling typing_extensions-4.5.0:\n",
      "      Successfully uninstalled typing_extensions-4.5.0\n",
      "  Attempting uninstall: protobuf\n",
      "    Found existing installation: protobuf 4.25.3\n",
      "    Uninstalling protobuf-4.25.3:\n",
      "      Successfully uninstalled protobuf-4.25.3\n",
      "\u001b[31mERROR: pip's dependency resolver does not currently take into account all the packages that are installed. This behaviour is the source of the following dependency conflicts.\n",
      "kfp-pipeline-spec 0.3.0 requires protobuf<5,>=4.21.1, but you have protobuf 3.20.3 which is incompatible.\n",
      "kfp 2.7.0 requires protobuf<5,>=4.21.1, but you have protobuf 3.20.3 which is incompatible.\n",
      "kfp 2.7.0 requires urllib3<2.0.0, but you have urllib3 2.2.1 which is incompatible.\n",
      "tensorflow 2.13.0 requires typing-extensions<4.6.0,>=3.6.6, but you have typing-extensions 4.11.0 which is incompatible.\u001b[0m\u001b[31m\n",
      "\u001b[0mSuccessfully installed azure-core-1.30.1 azure-storage-blob-12.9.0 isodate-0.6.1 msrest-0.7.1 protobuf-3.20.3 typing-extensions-4.11.0 urllib3-2.2.1\n"
     ]
    }
   ],
   "source": [
    "!pip install scikit-learn==1.3.1 pandas azure-storage-blob==12.9.0 kserve==0.11.2"
   ]
  },
  {
   "cell_type": "markdown",
   "id": "568bcfd4",
   "metadata": {},
   "source": [
    "# 모델 정의 및 학습 "
   ]
  },
  {
   "cell_type": "code",
   "execution_count": 1,
   "id": "ea5f02a5-d5ba-4a73-8124-83225044f102",
   "metadata": {
    "tags": []
   },
   "outputs": [
    {
     "data": {
      "text/plain": [
       "'1.3.1'"
      ]
     },
     "execution_count": 1,
     "metadata": {},
     "output_type": "execute_result"
    }
   ],
   "source": [
    "import sklearn\n",
    "sklearn.__version__"
   ]
  },
  {
   "cell_type": "code",
   "execution_count": 2,
   "id": "fbaf4f5d-d3ac-42e7-953c-e9ace1f8a5a0",
   "metadata": {
    "tags": []
   },
   "outputs": [],
   "source": [
    "import numpy as np\n",
    "import matplotlib.pyplot as plt\n",
    "from sklearn.tree import DecisionTreeRegressor\n",
    "\n",
    "# Create a random dataset\n",
    "rng = np.random.RandomState(1)\n",
    "X = np.sort(200 * rng.rand(100, 1) - 100, axis=0)\n",
    "y = np.array([np.pi * np.sin(X).ravel(), np.pi * np.cos(X).ravel()]).T\n",
    "y[::5, :] += 0.5 - rng.rand(20, 2)\n",
    "\n",
    "# Fit regression model\n",
    "regr_1 = DecisionTreeRegressor(max_depth=2)\n",
    "regr_2 = DecisionTreeRegressor(max_depth=5)\n",
    "regr_3 = DecisionTreeRegressor(max_depth=8)\n",
    "regr_1.fit(X, y)\n",
    "regr_2.fit(X, y)\n",
    "regr_3.fit(X, y)\n",
    "\n",
    "# Predict\n",
    "X_test = np.arange(-100.0, 100.0, 0.01)[:, np.newaxis]\n",
    "y_1 = regr_1.predict(X_test)\n",
    "y_2 = regr_2.predict(X_test)\n",
    "y_3 = regr_3.predict(X_test)"
   ]
  },
  {
   "cell_type": "code",
   "execution_count": 3,
   "id": "0c47ee00-2f5b-4952-9f84-1d259d017b0f",
   "metadata": {
    "tags": []
   },
   "outputs": [
    {
     "data": {
      "text/plain": [
       "array([[ 1.82569761,  2.64490159],\n",
       "       [ 1.82569761,  2.64490159],\n",
       "       [ 1.82569761,  2.64490159],\n",
       "       ...,\n",
       "       [-1.84319053, -0.55258289],\n",
       "       [-1.84319053, -0.55258289],\n",
       "       [-1.84319053, -0.55258289]])"
      ]
     },
     "execution_count": 3,
     "metadata": {},
     "output_type": "execute_result"
    }
   ],
   "source": [
    "y_3"
   ]
  },
  {
   "cell_type": "markdown",
   "id": "067d56c5",
   "metadata": {},
   "source": [
    "# 학습된 모델 저장하기 "
   ]
  },
  {
   "cell_type": "code",
   "execution_count": 4,
   "id": "320dfe05-a553-4c0b-9881-abe1d375fd0e",
   "metadata": {
    "tags": []
   },
   "outputs": [],
   "source": [
    "import joblib"
   ]
  },
  {
   "cell_type": "code",
   "execution_count": 5,
   "id": "666a003f-3559-479b-ac2f-9462cc32ee3a",
   "metadata": {
    "tags": []
   },
   "outputs": [
    {
     "data": {
      "text/plain": [
       "['model.joblib']"
      ]
     },
     "execution_count": 5,
     "metadata": {},
     "output_type": "execute_result"
    }
   ],
   "source": [
    "import os\n",
    "os.environ.update({\n",
    "    'S3_ENDPOINT'          : 'minio-service.kubeflow:9000',\n",
    "    'AWS_ACCESS_KEY_ID'    : 'minio',\n",
    "    'AWS_SECRET_ACCESS_KEY': 'minio123',\n",
    "    'S3_USE_HTTPS'         : '0',   # Whether or not to use HTTPS. Disable with 0.                        \n",
    "    'S3_VERIFY_SSL'        : '0'    # If HTTPS is used, controls if SSL should be enabled. Disable with 0.\n",
    "})  \n",
    "\n",
    "bucket_name=\"kserve-test\"\n",
    "model_path=\"model.joblib\"\n",
    "joblib.dump(regr_3, model_path)"
   ]
  },
  {
   "cell_type": "code",
   "execution_count": 7,
   "id": "768397df-6a7e-46a1-a6f4-2130ecf716b4",
   "metadata": {
    "tags": []
   },
   "outputs": [
    {
     "name": "stdout",
     "output_type": "stream",
     "text": [
      "\u001b]11;?\u001b\\\u001b[6n\u001b[m\u001b[32;1mBucket created successfully `kubeflow/kserve-test`.\u001b[0;22m\u001b[m\n"
     ]
    }
   ],
   "source": [
    "!mc mb kubeflow/kserve-test"
   ]
  },
  {
   "cell_type": "code",
   "execution_count": 8,
   "id": "c262d163-f91c-41b7-a377-3101b4e9e223",
   "metadata": {
    "tags": []
   },
   "outputs": [
    {
     "name": "stdout",
     "output_type": "stream",
     "text": [
      "\u001b]11;?\u001b\\\u001b[6n\u001b[m\u001b[32m[2024-04-28 01:31:10 UTC]\u001b[0m\u001b[33m     0B\u001b[0m\u001b[36;1m kserve-test/\u001b[0;22m\u001b[m\n",
      "\u001b[m\u001b[32m[2024-04-27 02:55:11 UTC]\u001b[0m\u001b[33m     0B\u001b[0m\u001b[36;1m mlpipeline/\u001b[0;22m\u001b[m\n",
      "\u001b[m\u001b[32m[2024-04-27 11:22:21 UTC]\u001b[0m\u001b[33m     0B\u001b[0m\u001b[36;1m new-bucket/\u001b[0;22m\u001b[m\n",
      "\u001b[m\u001b[32m[2024-04-27 11:58:02 UTC]\u001b[0m\u001b[33m     0B\u001b[0m\u001b[36;1m test-client/\u001b[0;22m\u001b[m\n",
      "\u001b[m\u001b[32m[2024-04-27 12:09:25 UTC]\u001b[0m\u001b[33m     0B\u001b[0m\u001b[36;1m test-sdk/\u001b[0;22m\u001b[m\n"
     ]
    }
   ],
   "source": [
    "!mc ls kubeflow"
   ]
  },
  {
   "cell_type": "code",
   "execution_count": 9,
   "id": "7727edb1-6a99-4bae-995a-6d2c442c3662",
   "metadata": {
    "tags": []
   },
   "outputs": [
    {
     "name": "stdout",
     "output_type": "stream",
     "text": [
      "...del.joblib: 13.71 KiB / 13.71 KiB ┃▓▓▓▓▓▓▓▓▓▓▓▓▓▓▓▓▓▓▓▓▓▓▓▓▓┃ 542.96 KiB/s 0s\u001b[0;22m\u001b[0m\u001b[m\u001b[32;1m"
     ]
    }
   ],
   "source": [
    "!mc cp model.joblib kubeflow/kserve-test/sklearn-test/model.joblib"
   ]
  },
  {
   "cell_type": "code",
   "execution_count": 10,
   "id": "1aefb59b-41c0-4f1e-be47-b044b23aa1b4",
   "metadata": {
    "tags": []
   },
   "outputs": [
    {
     "name": "stdout",
     "output_type": "stream",
     "text": [
      "\u001b]11;?\u001b\\\u001b[6n\u001b[m\u001b[32m[2024-04-28 01:31:56 UTC]\u001b[0m\u001b[33m  14KiB\u001b[0m \u001b[34mSTANDARD\u001b[0m\u001b[1m model.joblib\u001b[22m\u001b[m\n"
     ]
    }
   ],
   "source": [
    "!mc ls kubeflow/kserve-test/sklearn-test"
   ]
  },
  {
   "cell_type": "code",
   "execution_count": null,
   "id": "e6c0c9f0-cd73-4a3d-9ab3-0bfac0e17efc",
   "metadata": {},
   "outputs": [],
   "source": []
  }
 ],
 "metadata": {
  "kernelspec": {
   "display_name": "Python 3 (ipykernel)",
   "language": "python",
   "name": "python3"
  },
  "language_info": {
   "codemirror_mode": {
    "name": "ipython",
    "version": 3
   },
   "file_extension": ".py",
   "mimetype": "text/x-python",
   "name": "python",
   "nbconvert_exporter": "python",
   "pygments_lexer": "ipython3",
   "version": "3.11.6"
  }
 },
 "nbformat": 4,
 "nbformat_minor": 5
}
